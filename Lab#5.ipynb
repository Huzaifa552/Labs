{
 "cells": [
  {
   "cell_type": "markdown",
   "metadata": {},
   "source": [
    "# MUHAMMAD HUZAIFA SHAIKH(LAB:5)"
   ]
  },
  {
   "cell_type": "code",
   "execution_count": 32,
   "metadata": {},
   "outputs": [
    {
     "name": "stdout",
     "output_type": "stream",
     "text": [
      "Enter radius of the cylinder: 8\n",
      "Enter the height of the cylinder: 6\n",
      "The area of cylinder is: 703.7167544041137 cm²\n"
     ]
    }
   ],
   "source": [
    "#EXERCISE:1(A)\n",
    "from math import pi\n",
    "def area_of_cylinder():\n",
    "    r=eval(input(\"Enter radius of the cylinder: \"))\n",
    "    h=eval(input(\"Enter the height of the cylinder: \"))\n",
    "    area_of_cylinder=2*pi*r*(h+r)\n",
    "    print(\"The area of cylinder is: {0} cm\\u00b2\".format(area_of_cylinder))\n",
    "    return \n",
    "area_of_cylinder()"
   ]
  },
  {
   "cell_type": "code",
   "execution_count": 2,
   "metadata": {},
   "outputs": [
    {
     "name": "stdout",
     "output_type": "stream",
     "text": [
      "Enter radius of the cylinder: 6\n",
      "Enter height of the cylinder: 8\n",
      "The volume of cylinder is: 904.7786842338604 cm³\n"
     ]
    }
   ],
   "source": [
    "#EXERCISE:1(B)\n",
    "from math import pi\n",
    "def volume_of_cylinder():\n",
    "    r=eval(input(\"Enter radius of the cylinder: \"))\n",
    "    h=eval(input(\"Enter height of the cylinder: \"))\n",
    "    volume_of_cylinder=pi*(r**2)*h\n",
    "    print(\"The volume of cylinder is: {0} cm\\u00b3\".format(volume_of_cylinder))\n",
    "    return\n",
    "volume_of_cylinder()"
   ]
  },
  {
   "cell_type": "code",
   "execution_count": 3,
   "metadata": {
    "scrolled": true
   },
   "outputs": [
    {
     "name": "stdout",
     "output_type": "stream",
     "text": [
      "Enter the lenght of the rectangle: 10\n",
      "Enter the breath of the rectangle: 15\n",
      "The area of rectangle: 150 cm²\n"
     ]
    }
   ],
   "source": [
    "#EXERCISE:2(A)\n",
    "def area_of_rectangle():\n",
    "    length=eval(input(\"Enter the lenght of the rectangle: \"))\n",
    "    breath=eval(input(\"Enter the breath of the rectangle: \"))\n",
    "    area_of_rectangle=length*breath\n",
    "    print(\"The area of rectangle: {0} cm\\u00b2\".format(area_of_rectangle))\n",
    "    return\n",
    "area_of_rectangle()"
   ]
  },
  {
   "cell_type": "code",
   "execution_count": 5,
   "metadata": {},
   "outputs": [
    {
     "name": "stdout",
     "output_type": "stream",
     "text": [
      "Enter lenght of the rectangle: 10\n",
      "Enter breath of the rectangle: 20\n",
      "Enter height of the rectangle: 30\n",
      "The volume of rectangle is: 6000 cm³\n"
     ]
    }
   ],
   "source": [
    "#EXERCISE:2(B)\n",
    "def volume_of_rectangle():\n",
    "    length=eval(input(\"Enter lenght of the rectangle: \"))\n",
    "    breath=eval(input(\"Enter breath of the rectangle: \"))\n",
    "    height=eval(input(\"Enter height of the rectangle: \"))\n",
    "    volume_of_rectangle=length*breath*height\n",
    "    print(\"The volume of rectangle is: {0} cm\\u00b3\".format(volume_of_rectangle))\n",
    "    return\n",
    "volume_of_rectangle()"
   ]
  },
  {
   "cell_type": "code",
   "execution_count": 32,
   "metadata": {},
   "outputs": [
    {
     "name": "stdout",
     "output_type": "stream",
     "text": [
      "Enter the first term: 3\n",
      "Enter the common difference: 6\n",
      "Do you want to calculate next term?yes\n",
      "Enter the nth term: 35\n",
      "207\n",
      "Do you want to calculate next term?yes\n",
      "Enter the nth term: 45\n",
      "267\n",
      "Do you want to calculate next term?yes\n",
      "Enter the nth term: 96\n",
      "573\n",
      "Do you want to calculate next term?no\n"
     ]
    },
    {
     "data": {
      "text/plain": [
       "('The answer of the last nth term is:', 573)"
      ]
     },
     "execution_count": 32,
     "metadata": {},
     "output_type": "execute_result"
    }
   ],
   "source": [
    "#EXERCISE:3\n",
    "def sequence(a,d):\n",
    "    x=str(input(\"Do you want to calculate next term?\"))\n",
    "    y=x.casefold()\n",
    "    while(y=='yes'):\n",
    "        n=eval(input(\"Enter the nth term: \"))\n",
    "        tn=a+(n-1)*d\n",
    "        print(tn)\n",
    "        x=str(input(\"Do you want to calculate next term?\"))\n",
    "        y=x.casefold()\n",
    "    return('The answer of the last nth term is:',tn)\n",
    "a=eval(input(\"Enter the first term: \"))\n",
    "d=eval(input(\"Enter the common difference: \"))\n",
    "sequence(a,d)\n"
   ]
  },
  {
   "cell_type": "code",
   "execution_count": 37,
   "metadata": {},
   "outputs": [
    {
     "name": "stdout",
     "output_type": "stream",
     "text": [
      "Enter your string: nip\n",
      "SORRY,your word is not palindrome!\n"
     ]
    }
   ],
   "source": [
    "#EXERCISE:4\n",
    "word=str(input(\"Enter your string: \"))\n",
    "y=len(word)\n",
    "x=word[y::-1]\n",
    "if x==word:\n",
    "    print(\"Your word is palindrome!\")\n",
    "else:\n",
    "    print(\"SORRY,your word is not palindrome!\")"
   ]
  },
  {
   "cell_type": "code",
   "execution_count": 6,
   "metadata": {},
   "outputs": [
    {
     "name": "stdout",
     "output_type": "stream",
     "text": [
      "\t\t\t\tBOARD OF INTERMEIDATE EDUCATION KARACHI\n",
      "Enter your Name: Muhammad Huzaifa Shaikh\n",
      "Enter you Father name: Abdul Haq Shaikh\n",
      "Enter your Date of birth: 20_06_2001\n",
      "Enter your combined english marks: 99\n",
      "Enter your combined urdu marks: 138\n",
      "Enter your combined chemistry marks: 154\n",
      "Enter your combined physics marks: 123\n",
      "Enter your combined maths marks: 148\n",
      "Enter you islamiat part_1: 46\n",
      "Enter you pak studies part_2 marks:40\n",
      "-------------------------------------------------------------------------\n",
      "Name| Muhammad Huzaifa Shaikh \tFather Name| Abdul Haq Shaikh \tDate_of_birth| 20062001\n",
      "-------------------------------------------------------------------------\n",
      "English= \t200| 99\n",
      "Urdu= \t\t200| 138\n",
      "Chemistry= \t200| 154\n",
      "Physics= \t200| 123\n",
      "Math= \t\t200| 148\n",
      "Islamiat= \t50| 46\n",
      "Pak_studies_2= \t50| 40\n",
      "--------------------------------------------------------------------------\n",
      "Total Marks| 748 \tPercentage| 68.0 \tGrade| B\n",
      "--------------------------------------------------------------------------\n"
     ]
    }
   ],
   "source": [
    "#EXERCISE:5\n",
    "print(\"\\t\\t\\t\\tBOARD OF INTERMEIDATE EDUCATION KARACHI\")\n",
    "def marksheet():\n",
    "    name=str(input(\"Enter your Name: \"))\n",
    "    father_name=str(input(\"Enter you Father name: \"))\n",
    "    date_of_birth=eval(input(\"Enter your Date of birth: \"))\n",
    "    english=eval(input(\"Enter your combined english marks: \"))\n",
    "    urdu=eval(input(\"Enter your combined urdu marks: \"))\n",
    "    chemistry=eval(input(\"Enter your combined chemistry marks: \"))\n",
    "    physics=eval(input(\"Enter your combined physics marks: \"))\n",
    "    math=eval(input(\"Enter your combined maths marks: \"))\n",
    "    islamiat_1=eval(input(\"Enter you islamiat part_1: \"))\n",
    "    pak_studies_2=eval(input(\"Enter you pak studies part_2 marks:\"))\n",
    "    print(\"-------------------------------------------------------------------------\")\n",
    "\n",
    "    print(\"Name|\",name,\"\\tFather Name|\",father_name,\"\\tDate_of_birth|\",date_of_birth)\n",
    "    print(\"-------------------------------------------------------------------------\")\n",
    "\n",
    "    print(\"English=\",\"\\t200|\",english)\n",
    "    print(\"Urdu=\",\"\\t\\t200|\",urdu)\n",
    "    print(\"Chemistry=\",\"\\t200|\",chemistry)\n",
    "    print(\"Physics=\",\"\\t200|\",physics)\n",
    "    print(\"Math=\",\"\\t\\t200|\",math)\n",
    "    print(\"Islamiat=\",\"\\t50|\",islamiat_1)\n",
    "    print(\"Pak_studies_2=\",\"\\t50|\",pak_studies_2)\n",
    "    sum_of_marks=english+urdu+chemistry+physics+math+islamiat_1+pak_studies_2\n",
    "    total_marks=1100\n",
    "    percentage=(sum_of_marks/total_marks)*100\n",
    "    if percentage >= 80:\n",
    "        Grade=\"A.one\"\n",
    "    elif percentage >=70:\n",
    "        Grade=\"A\"\n",
    "    elif percentage >=60:\n",
    "        Grade=\"B\"\n",
    "    elif percentage >=50:\n",
    "        Grade=\"C\"\n",
    "    elif percentage >=40:\n",
    "        Grade=\"D\"\n",
    "    elif percentage >=30:\n",
    "        Grade=\"Fail\"\n",
    "    print(\"--------------------------------------------------------------------------\")\n",
    "    print(\"Total Marks|\",sum_of_marks,\"\\tPercentage|\",percentage,\"\\tGrade|\",Grade)\n",
    "    print(\"--------------------------------------------------------------------------\")\n",
    "marksheet()"
   ]
  },
  {
   "cell_type": "code",
   "execution_count": 7,
   "metadata": {},
   "outputs": [
    {
     "name": "stdout",
     "output_type": "stream",
     "text": [
      "Enter tha value of mass: 10\n",
      "Enter tha value of acceleration: 15\n",
      "The force for the given condition is: 150 N\n"
     ]
    }
   ],
   "source": [
    "#EXERCISE:6\n",
    "#Every object in a state of uniform motion will remain in that state of motion unless an external force acts on it\n",
    "def law_of_motion():\n",
    "    m=eval(input(\"Enter tha value of mass: \"))\n",
    "    a=eval(input(\"Enter tha value of acceleration: \"))\n",
    "    f=m*a\n",
    "    print(\"The force for the given condition is:\",f,\"N\")\n",
    "    return\n",
    "law_of_motion()\n",
    "\n"
   ]
  },
  {
   "cell_type": "code",
   "execution_count": 8,
   "metadata": {},
   "outputs": [
    {
     "name": "stdout",
     "output_type": "stream",
     "text": [
      "Enter the value of mass:10\n",
      "Enter tha value of time: 5\n",
      "Enter tha value of velocity: 15\n",
      "The force for the given condition is: 30.0 N\n"
     ]
    }
   ],
   "source": [
    "#EXERCISE:6\n",
    "#Force equals mass times acceleration\n",
    "def law_of_motion():\n",
    "    m=eval(input(\"Enter the value of mass:\"))\n",
    "    t=eval(input(\"Enter tha value of time: \"))\n",
    "    v=eval(input(\"Enter tha value of velocity: \"))\n",
    "    F=(m*v)/t\n",
    "    print(\"The force for the given condition is:\",F,\"N\")\n",
    "    return \n",
    "law_of_motion()"
   ]
  },
  {
   "cell_type": "code",
   "execution_count": 9,
   "metadata": {},
   "outputs": [
    {
     "name": "stdout",
     "output_type": "stream",
     "text": [
      "Enter tha value of mass: 10\n",
      "Enter tha value of acceleration: 15\n",
      "The force for the given condition is: -150 N\n"
     ]
    }
   ],
   "source": [
    "#EXERCISE:6\n",
    "#EVERY ACTION THERE IS AN EQUAL BUT OPPOSITE REACTION\n",
    "def law_of_motion():\n",
    "    m=eval(input(\"Enter tha value of mass: \"))\n",
    "    a=eval(input(\"Enter tha value of acceleration: \"))\n",
    "    f=-(m*a)\n",
    "    print(\"The force for the given condition is:\",f,\"N\")\n",
    "    return\n",
    "law_of_motion()\n",
    "\n"
   ]
  },
  {
   "cell_type": "code",
   "execution_count": 11,
   "metadata": {},
   "outputs": [
    {
     "name": "stdout",
     "output_type": "stream",
     "text": [
      "Enter the value of velocity:10\n",
      "Enter the angle:45\n",
      "(a)The maximum height is: 2.5510204081632657 m\n",
      "Enter the value of velocity:15\n",
      "Enter the angle:60\n",
      "(b)The total time in the air is: 2.164612595469023 s\n",
      "Enter the value of velocity:20\n",
      "Enter the angle:90\n",
      "(c)The Range is: 40.816326530612244 m\n",
      "Enter the value of velocity:25\n",
      "(d)The velocity vector at max height: 31.15613121325618 m\n",
      "(e)The velocity when ball hits the ground is: 21.213203435596427 m/s\n"
     ]
    }
   ],
   "source": [
    "#EXERCISE:7\n",
    "#(a)\n",
    "from math import sin\n",
    "from math import pi\n",
    "def projectile_motion():\n",
    "    velocity=int(input(\"Enter the value of velocity:\"))\n",
    "    Angle=int(input(\"Enter the angle:\"))\n",
    "    Angle_in_radian=Angle*(pi/180)\n",
    "    g=(9.8)\n",
    "    Height=(velocity**2)*(sin(Angle_in_radian)**2)/(2*g)\n",
    "    print(\"(a)The maximum height is:\",Height,\"m\")\n",
    "#(b)\n",
    "    velocity=int(input(\"Enter the value of velocity:\"))\n",
    "    g=9.8\n",
    "    Angle=int(input(\"Enter the angle:\"))\n",
    "    Time=(2*velocity)*(sin(Angle_in_radian))/g\n",
    "    print(\"(b)The total time in the air is:\",Time,\"s\")\n",
    "#(c)\n",
    "    velocity=int(input(\"Enter the value of velocity:\"))\n",
    "    g=9.8\n",
    "    Angle=int(input(\"Enter the angle:\"))\n",
    "    Range=(velocity**2)*(sin(2*Angle_in_radian))/(g)\n",
    "    print(\"(c)The Range is:\",Range,\"m\")\n",
    "#(d)\n",
    "    velocity=int(input(\"Enter the value of velocity:\"))\n",
    "    g=9.8\n",
    "    h=(velocity*Time)-(1/2*g*(Time**2))\n",
    "    print(\"(d)The velocity vector at max height:\",h,\"m\")\n",
    "#(e)\n",
    "    print(\"(e)The velocity when ball hits the ground is:\",Time*g,\"m/s\")\n",
    "projectile_motion()"
   ]
  },
  {
   "cell_type": "code",
   "execution_count": 12,
   "metadata": {},
   "outputs": [
    {
     "name": "stdout",
     "output_type": "stream",
     "text": [
      "Enter your name?HUZAIFA SHAIKH\n"
     ]
    },
    {
     "data": {
      "text/plain": [
       "'HKIAHS AFIAZUH'"
      ]
     },
     "execution_count": 12,
     "metadata": {},
     "output_type": "execute_result"
    }
   ],
   "source": [
    "#EXERCISE:8\n",
    "def reverse_name():\n",
    "    my_name=str(input(\"Enter your name?\"))\n",
    "    x=len(my_name)\n",
    "    y=my_name[x::-1]\n",
    "    return y\n",
    "reverse_name()"
   ]
  },
  {
   "cell_type": "code",
   "execution_count": 2,
   "metadata": {},
   "outputs": [
    {
     "name": "stdout",
     "output_type": "stream",
     "text": [
      "['O', 'l', 's', 's', 'v', 'a', 'o', 'p', 'z', 'p', 'z', 'T', 'b', 'o', 'h', 't', 't', 'h', 'k', 'O', 'b', 'g', 'h', 'p', 'm', 'h', 'Z', 'o', 'h', 'p', 'r', 'o']\n"
     ]
    }
   ],
   "source": [
    "#EXERCISE:9\n",
    "def encrypt(text,step):\n",
    "    outText=[]\n",
    "    crypText=[]\n",
    "    uppercase=['A','B','C','D','E','F','G','H','I','J','K','L','M','N','O','P','Q','R','S','T','U','V','W','X','Y','Z']\n",
    "    lowercase=['a','b','c','d','e','f','g','h','i','j','k','l','m','n','o','p','q','r','s','t','u','v','w','x','y','z']\n",
    "    for eachLetter in text:\n",
    "        if eachLetter in uppercase:\n",
    "            index=uppercase.index(eachLetter)\n",
    "            crypting=(index+step)%26\n",
    "            crypText.append(crypting)\n",
    "            newLetter=uppercase[crypting]\n",
    "            outText.append(newLetter)\n",
    "        elif eachLetter in lowercase:\n",
    "            index=lowercase.index(eachLetter)\n",
    "            crypting=(index+step)%26\n",
    "            crypText.append(crypting)\n",
    "            newLetter=lowercase[crypting]\n",
    "            outText.append(newLetter)\n",
    "    print(outText)\n",
    "    return\n",
    "encrypt(\"Hello this is Muhammad Huzaifa Shaikh\",7)"
   ]
  },
  {
   "cell_type": "code",
   "execution_count": 27,
   "metadata": {},
   "outputs": [
    {
     "name": "stdout",
     "output_type": "stream",
     "text": [
      "Enter the starting value of the range: 40\n",
      "Enter the ending value fo the range: 45\n",
      "\n",
      "The values for sine for the giving range is: 0.7451131604793488 , \n",
      "The values for cos for the giving range is:  -0.6669380616522619 , \n",
      "The values for tan for the giving range is:  -1.117214930923896 , \n",
      "The values for sine for the giving range is: -0.158622668804709 , \n",
      "The values for cos for the giving range is:  -0.9873392775238264 , \n",
      "The values for tan for the giving range is:  0.16065669868064283 , \n",
      "The values for sine for the giving range is: -0.9165215479156338 , \n",
      "The values for cos for the giving range is:  -0.39998531498835127 , \n",
      "The values for tan for the giving range is:  2.2913879924374863 , \n",
      "The values for sine for the giving range is: -0.8317747426285983 , \n",
      "The values for cos for the giving range is:  0.5551133015206257 , \n",
      "The values for tan for the giving range is:  -1.4983873388551707 , \n",
      "The values for sine for the giving range is: 0.017701925105413577 , \n",
      "The values for cos for the giving range is:  0.9998433086476912 , \n",
      "The values for tan for the giving range is:  0.017704699278685777 , "
     ]
    }
   ],
   "source": [
    "#EXERCISE:10\n",
    "from math import sin,cos,tan\n",
    "def trig(startingValue,endingValue):\n",
    "    startingValue=eval(input(\"Enter the starting value of the range: \"))\n",
    "    endingValue=eval(input(\"Enter the ending value fo the range: \"))\n",
    "    for i in range(startingValue,endingValue):\n",
    "        calSin=sin(i)\n",
    "        print(\"\\nThe values for sine for the giving range is:\",calSin, end = \" , \")\n",
    "        calCos=cos(i)\n",
    "        print(\"\\nThe values for cos for the giving range is: \",calCos, end = \" , \")\n",
    "        calTan=tan(i)\n",
    "        print(\"\\nThe values for tan for the giving range is: \",calTan, end = \" , \")\n",
    "    return\n",
    "trig(startingValue,endingValue)"
   ]
  },
  {
   "cell_type": "code",
   "execution_count": 5,
   "metadata": {},
   "outputs": [
    {
     "name": "stdout",
     "output_type": "stream",
     "text": [
      "Perimeter of semi_circles is: 21.991148575128552 m\n",
      "Area of semi_circle excluding semi_circles is: 76.96902001294993 m²\n"
     ]
    }
   ],
   "source": [
    "#EXERCISE:11\n",
    "from math import pi\n",
    "def perimeter():\n",
    "    d=14\n",
    "    r=d/2\n",
    "    perimeter_of_semicircle=(2*pi*r)/2\n",
    "    print(\"Perimeter of semi_circles is:\",perimeter_of_semicircle,\"m\")\n",
    "    return\n",
    "perimeter()\n",
    "def area():\n",
    "    d=14\n",
    "    r=d/2\n",
    "    area_of_semicircle=(pi*r**2)/2\n",
    "    print(\"Area of semi_circle excluding semi_circles is:\",area_of_semicircle,\"m\\u00b2\")\n",
    "    return\n",
    "area()"
   ]
  }
 ],
 "metadata": {
  "kernelspec": {
   "display_name": "Python 3",
   "language": "python",
   "name": "python3"
  },
  "language_info": {
   "codemirror_mode": {
    "name": "ipython",
    "version": 3
   },
   "file_extension": ".py",
   "mimetype": "text/x-python",
   "name": "python",
   "nbconvert_exporter": "python",
   "pygments_lexer": "ipython3",
   "version": "3.7.3"
  }
 },
 "nbformat": 4,
 "nbformat_minor": 2
}
