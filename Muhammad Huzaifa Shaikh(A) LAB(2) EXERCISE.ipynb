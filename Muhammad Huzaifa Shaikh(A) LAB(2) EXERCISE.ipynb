{
 "cells": [
  {
   "cell_type": "code",
   "execution_count": 4,
   "metadata": {},
   "outputs": [
    {
     "name": "stdout",
     "output_type": "stream",
     "text": [
      "28 days, 0:00:00\n"
     ]
    }
   ],
   "source": [
    "#program=1\n",
    "from datetime import date\n",
    "D1 = date(2019,10,29)\n",
    "D2 = date(2019,10,1)\n",
    "c = (D1-D2)\n",
    "print (c)"
   ]
  },
  {
   "cell_type": "code",
   "execution_count": 5,
   "metadata": {},
   "outputs": [
    {
     "name": "stdout",
     "output_type": "stream",
     "text": [
      "the answer of (a) is: 15.454813220625093\n",
      "the answer of (b) is: 0.0\n",
      "the answer of (c) is: 16.970562748477143\n",
      "the answer of (d) is: 23.63538607229299\n"
     ]
    }
   ],
   "source": [
    "#program=2\n",
    "from math import pi\n",
    "from math import sin\n",
    "#(a) 16 feet and 75 degree\n",
    "Height1= 16 * sin(pi * (75/180))\n",
    "print (\"the answer of (a) is: \" + str(Height1))\n",
    "#(b) 20 feet and 0 degree\n",
    "Height2= 20 * sin(pi * (0/180))\n",
    "print (\"the answer of (b) is: \" + str(Height2))\n",
    "#(c) 24 feet and 45 degree\n",
    "Height3= 24 * sin(pi * (45/180))\n",
    "print (\"the answer of (c) is: \" + str(Height3))\n",
    "#(d) 24 feet and 80 degree\n",
    "Height4= 24 * sin(pi * (80/180))\n",
    "print (\"the answer of (d) is: \" + str(Height4))"
   ]
  },
  {
   "cell_type": "code",
   "execution_count": 11,
   "metadata": {},
   "outputs": [
    {
     "name": "stdout",
     "output_type": "stream",
     "text": [
      "2\n",
      "5\n",
      "[10, 8, 6, 4, 2]\n",
      "[2, 4, 6, 8, 10, 2]\n"
     ]
    }
   ],
   "source": [
    "#program=3\n",
    "#(a)\n",
    "lst = [2,4,6,8,10]\n",
    "Lenghtoflist = len(lst)\n",
    "middle_index = int(Lenghtoflist/2)\n",
    "print (middle_index)\n",
    "#(b)\n",
    "lst = [2,4,6,8,10]\n",
    "middle_element = len(lst)\n",
    "print (middle_element)\n",
    "#(c)\n",
    "lst = [2,4,6,8,10]\n",
    "lst.sort(reverse = True)\n",
    "print (lst)\n",
    "#(d)\n",
    "lst = [2,4,6,8,10]\n",
    "lst.extend([2])\n",
    "print(lst)\n"
   ]
  },
  {
   "cell_type": "code",
   "execution_count": 17,
   "metadata": {
    "scrolled": false
   },
   "outputs": [
    {
     "name": "stdout",
     "output_type": "stream",
     "text": [
      "['Jan', 'Feb', 'March', 'Apr', 'May']\n"
     ]
    },
    {
     "ename": "AttributeError",
     "evalue": "'tuple' object has no attribute 'insert'",
     "output_type": "error",
     "traceback": [
      "\u001b[1;31m---------------------------------------------------------------------------\u001b[0m",
      "\u001b[1;31mAttributeError\u001b[0m                            Traceback (most recent call last)",
      "\u001b[1;32m<ipython-input-17-4628e94f7f26>\u001b[0m in \u001b[0;36m<module>\u001b[1;34m\u001b[0m\n\u001b[0;32m      5\u001b[0m \u001b[0mmonthsL\u001b[0m\u001b[1;33m.\u001b[0m\u001b[0minsert\u001b[0m\u001b[1;33m(\u001b[0m\u001b[1;36m3\u001b[0m\u001b[1;33m,\u001b[0m \u001b[1;34m\"Apr\"\u001b[0m\u001b[1;33m)\u001b[0m\u001b[1;33m\u001b[0m\u001b[1;33m\u001b[0m\u001b[0m\n\u001b[0;32m      6\u001b[0m \u001b[0mprint\u001b[0m\u001b[1;33m(\u001b[0m\u001b[0mmonthsL\u001b[0m\u001b[1;33m)\u001b[0m\u001b[1;33m\u001b[0m\u001b[1;33m\u001b[0m\u001b[0m\n\u001b[1;32m----> 7\u001b[1;33m \u001b[0mmonthsT\u001b[0m\u001b[1;33m.\u001b[0m\u001b[0minsert\u001b[0m\u001b[1;33m(\u001b[0m\u001b[1;36m3\u001b[0m\u001b[1;33m,\u001b[0m \u001b[1;34m\"Apr\"\u001b[0m\u001b[1;33m)\u001b[0m\u001b[1;33m\u001b[0m\u001b[1;33m\u001b[0m\u001b[0m\n\u001b[0m\u001b[0;32m      8\u001b[0m \u001b[0mprint\u001b[0m\u001b[1;33m(\u001b[0m\u001b[0mmonthsT\u001b[0m\u001b[1;33m)\u001b[0m\u001b[1;33m\u001b[0m\u001b[1;33m\u001b[0m\u001b[0m\n",
      "\u001b[1;31mAttributeError\u001b[0m: 'tuple' object has no attribute 'insert'"
     ]
    }
   ],
   "source": [
    "#program=4\n",
    "monthsL = [\"Jan\", \"Feb\", \"March\", \"May\"]\n",
    "monthsT = (\"Jan\", \"Feb\", \"March\", \"May\")\n",
    "#(a)\n",
    "monthsL.insert(3, \"Apr\")\n",
    "print(monthsL)\n",
    "monthsT.insert(3, \"Apr\")\n",
    "print(monthsT)"
   ]
  },
  {
   "cell_type": "code",
   "execution_count": 3,
   "metadata": {
    "scrolled": true
   },
   "outputs": [
    {
     "name": "stdout",
     "output_type": "stream",
     "text": [
      "['Jan', 'Feb', 'March', 'May', 'Jan']\n"
     ]
    },
    {
     "ename": "AttributeError",
     "evalue": "'tuple' object has no attribute 'append'",
     "output_type": "error",
     "traceback": [
      "\u001b[1;31m---------------------------------------------------------------------------\u001b[0m",
      "\u001b[1;31mAttributeError\u001b[0m                            Traceback (most recent call last)",
      "\u001b[1;32m<ipython-input-3-33bbf0164f1e>\u001b[0m in \u001b[0;36m<module>\u001b[1;34m\u001b[0m\n\u001b[0;32m      5\u001b[0m \u001b[0mmonthsL\u001b[0m\u001b[1;33m.\u001b[0m\u001b[0mappend\u001b[0m\u001b[1;33m(\u001b[0m\u001b[1;34m\"Jan\"\u001b[0m\u001b[1;33m)\u001b[0m\u001b[1;33m\u001b[0m\u001b[1;33m\u001b[0m\u001b[0m\n\u001b[0;32m      6\u001b[0m \u001b[0mprint\u001b[0m\u001b[1;33m(\u001b[0m\u001b[0mmonthsL\u001b[0m\u001b[1;33m)\u001b[0m\u001b[1;33m\u001b[0m\u001b[1;33m\u001b[0m\u001b[0m\n\u001b[1;32m----> 7\u001b[1;33m \u001b[0mmonthsT\u001b[0m\u001b[1;33m.\u001b[0m\u001b[0mappend\u001b[0m\u001b[1;33m(\u001b[0m\u001b[1;34m\"Jan\"\u001b[0m\u001b[1;33m)\u001b[0m\u001b[1;33m\u001b[0m\u001b[1;33m\u001b[0m\u001b[0m\n\u001b[0m\u001b[0;32m      8\u001b[0m \u001b[0mprint\u001b[0m\u001b[1;33m(\u001b[0m\u001b[0mmonthsT\u001b[0m\u001b[1;33m)\u001b[0m\u001b[1;33m\u001b[0m\u001b[1;33m\u001b[0m\u001b[0m\n\u001b[0;32m      9\u001b[0m \u001b[1;33m\u001b[0m\u001b[0m\n",
      "\u001b[1;31mAttributeError\u001b[0m: 'tuple' object has no attribute 'append'"
     ]
    }
   ],
   "source": [
    "#program=4\n",
    "#(b)\n",
    "monthsL = [\"Jan\", \"Feb\", \"March\", \"May\"]\n",
    "monthsT = (\"Jan\", \"Feb\", \"March\", \"May\")\n",
    "monthsL.append(\"Jan\")\n",
    "print(monthsL)\n",
    "monthsT.append(\"Jan\")\n",
    "print(monthsT)\n",
    "\n",
    "        "
   ]
  },
  {
   "cell_type": "code",
   "execution_count": 4,
   "metadata": {},
   "outputs": [
    {
     "name": "stdout",
     "output_type": "stream",
     "text": [
      "['Jan', 'Feb', 'March']\n"
     ]
    },
    {
     "ename": "AttributeError",
     "evalue": "'tuple' object has no attribute 'pop'",
     "output_type": "error",
     "traceback": [
      "\u001b[1;31m---------------------------------------------------------------------------\u001b[0m",
      "\u001b[1;31mAttributeError\u001b[0m                            Traceback (most recent call last)",
      "\u001b[1;32m<ipython-input-4-3d39d52fd562>\u001b[0m in \u001b[0;36m<module>\u001b[1;34m\u001b[0m\n\u001b[0;32m      4\u001b[0m \u001b[0mmonthsL\u001b[0m\u001b[1;33m.\u001b[0m\u001b[0mpop\u001b[0m\u001b[1;33m(\u001b[0m\u001b[1;33m)\u001b[0m\u001b[1;33m\u001b[0m\u001b[1;33m\u001b[0m\u001b[0m\n\u001b[0;32m      5\u001b[0m \u001b[0mprint\u001b[0m\u001b[1;33m(\u001b[0m\u001b[0mmonthsL\u001b[0m\u001b[1;33m)\u001b[0m\u001b[1;33m\u001b[0m\u001b[1;33m\u001b[0m\u001b[0m\n\u001b[1;32m----> 6\u001b[1;33m \u001b[0mmonthsT\u001b[0m\u001b[1;33m.\u001b[0m\u001b[0mpop\u001b[0m\u001b[1;33m(\u001b[0m\u001b[1;33m)\u001b[0m\u001b[1;33m\u001b[0m\u001b[1;33m\u001b[0m\u001b[0m\n\u001b[0m\u001b[0;32m      7\u001b[0m \u001b[0mprint\u001b[0m\u001b[1;33m(\u001b[0m\u001b[0mmonthsT\u001b[0m\u001b[1;33m)\u001b[0m\u001b[1;33m\u001b[0m\u001b[1;33m\u001b[0m\u001b[0m\n",
      "\u001b[1;31mAttributeError\u001b[0m: 'tuple' object has no attribute 'pop'"
     ]
    }
   ],
   "source": [
    "#program=4\n",
    "#(c)\n",
    "monthsL = [\"Jan\", \"Feb\", \"March\", \"May\"]\n",
    "monthsT = (\"Jan\", \"Feb\", \"March\", \"May\")\n",
    "monthsL.pop()\n",
    "print(monthsL)\n",
    "monthsT.pop()\n",
    "\n",
    "print(monthsT)"
   ]
  },
  {
   "cell_type": "code",
   "execution_count": 5,
   "metadata": {},
   "outputs": [
    {
     "name": "stdout",
     "output_type": "stream",
     "text": [
      "['Jan', 'March', 'May']\n"
     ]
    },
    {
     "ename": "AttributeError",
     "evalue": "'tuple' object has no attribute 'remove'",
     "output_type": "error",
     "traceback": [
      "\u001b[1;31m---------------------------------------------------------------------------\u001b[0m",
      "\u001b[1;31mAttributeError\u001b[0m                            Traceback (most recent call last)",
      "\u001b[1;32m<ipython-input-5-69eda7ec9ee8>\u001b[0m in \u001b[0;36m<module>\u001b[1;34m\u001b[0m\n\u001b[0;32m      4\u001b[0m \u001b[0mmonthsL\u001b[0m\u001b[1;33m.\u001b[0m\u001b[0mremove\u001b[0m\u001b[1;33m(\u001b[0m\u001b[1;34m\"Feb\"\u001b[0m\u001b[1;33m)\u001b[0m\u001b[1;33m\u001b[0m\u001b[1;33m\u001b[0m\u001b[0m\n\u001b[0;32m      5\u001b[0m \u001b[0mprint\u001b[0m\u001b[1;33m(\u001b[0m\u001b[0mmonthsL\u001b[0m\u001b[1;33m)\u001b[0m\u001b[1;33m\u001b[0m\u001b[1;33m\u001b[0m\u001b[0m\n\u001b[1;32m----> 6\u001b[1;33m \u001b[0mmonthsT\u001b[0m\u001b[1;33m.\u001b[0m\u001b[0mremove\u001b[0m\u001b[1;33m(\u001b[0m\u001b[1;34m\"Feb\"\u001b[0m\u001b[1;33m)\u001b[0m\u001b[1;33m\u001b[0m\u001b[1;33m\u001b[0m\u001b[0m\n\u001b[0m\u001b[0;32m      7\u001b[0m \u001b[0mprint\u001b[0m\u001b[1;33m(\u001b[0m\u001b[0mmonthsT\u001b[0m\u001b[1;33m)\u001b[0m\u001b[1;33m\u001b[0m\u001b[1;33m\u001b[0m\u001b[0m\n",
      "\u001b[1;31mAttributeError\u001b[0m: 'tuple' object has no attribute 'remove'"
     ]
    }
   ],
   "source": [
    "#program=4\n",
    "#(d)\n",
    "monthsL = [\"Jan\", \"Feb\", \"March\", \"May\"]\n",
    "monthsT = (\"Jan\", \"Feb\", \"March\", \"May\")\n",
    "monthsL.remove(\"Feb\")\n",
    "print(monthsL)\n",
    "monthsT.remove(\"Feb\")\n",
    "print(monthsT)"
   ]
  },
  {
   "cell_type": "code",
   "execution_count": 6,
   "metadata": {},
   "outputs": [
    {
     "name": "stdout",
     "output_type": "stream",
     "text": [
      "['May', 'March', 'Feb', 'Jan']\n"
     ]
    },
    {
     "ename": "AttributeError",
     "evalue": "'tuple' object has no attribute 'reverse'",
     "output_type": "error",
     "traceback": [
      "\u001b[1;31m---------------------------------------------------------------------------\u001b[0m",
      "\u001b[1;31mAttributeError\u001b[0m                            Traceback (most recent call last)",
      "\u001b[1;32m<ipython-input-6-bd2ba02bbdb8>\u001b[0m in \u001b[0;36m<module>\u001b[1;34m\u001b[0m\n\u001b[0;32m      4\u001b[0m \u001b[0mmonthsL\u001b[0m\u001b[1;33m.\u001b[0m\u001b[0mreverse\u001b[0m\u001b[1;33m(\u001b[0m\u001b[1;33m)\u001b[0m\u001b[1;33m\u001b[0m\u001b[1;33m\u001b[0m\u001b[0m\n\u001b[0;32m      5\u001b[0m \u001b[0mprint\u001b[0m\u001b[1;33m(\u001b[0m\u001b[0mmonthsL\u001b[0m\u001b[1;33m)\u001b[0m\u001b[1;33m\u001b[0m\u001b[1;33m\u001b[0m\u001b[0m\n\u001b[1;32m----> 6\u001b[1;33m \u001b[0mmonthsT\u001b[0m\u001b[1;33m.\u001b[0m\u001b[0mreverse\u001b[0m\u001b[1;33m(\u001b[0m\u001b[1;33m)\u001b[0m\u001b[1;33m\u001b[0m\u001b[1;33m\u001b[0m\u001b[0m\n\u001b[0m\u001b[0;32m      7\u001b[0m \u001b[0mprint\u001b[0m\u001b[1;33m(\u001b[0m\u001b[0mmonthsT\u001b[0m\u001b[1;33m)\u001b[0m\u001b[1;33m\u001b[0m\u001b[1;33m\u001b[0m\u001b[0m\n",
      "\u001b[1;31mAttributeError\u001b[0m: 'tuple' object has no attribute 'reverse'"
     ]
    }
   ],
   "source": [
    "#program=4\n",
    "#(e)\n",
    "monthsL = [\"Jan\", \"Feb\", \"March\", \"May\"]\n",
    "monthsT = (\"Jan\", \"Feb\", \"March\", \"May\")\n",
    "monthsL.reverse()\n",
    "print(monthsL)\n",
    "monthsT.reverse()\n",
    "print(monthsT)"
   ]
  },
  {
   "cell_type": "code",
   "execution_count": 7,
   "metadata": {},
   "outputs": [
    {
     "name": "stdout",
     "output_type": "stream",
     "text": [
      "['Feb', 'Jan', 'March', 'May']\n"
     ]
    },
    {
     "ename": "AttributeError",
     "evalue": "'tuple' object has no attribute 'sort'",
     "output_type": "error",
     "traceback": [
      "\u001b[1;31m---------------------------------------------------------------------------\u001b[0m",
      "\u001b[1;31mAttributeError\u001b[0m                            Traceback (most recent call last)",
      "\u001b[1;32m<ipython-input-7-d58c39472b66>\u001b[0m in \u001b[0;36m<module>\u001b[1;34m\u001b[0m\n\u001b[0;32m      4\u001b[0m \u001b[0mmonthsL\u001b[0m\u001b[1;33m.\u001b[0m\u001b[0msort\u001b[0m\u001b[1;33m(\u001b[0m\u001b[1;33m)\u001b[0m\u001b[1;33m\u001b[0m\u001b[1;33m\u001b[0m\u001b[0m\n\u001b[0;32m      5\u001b[0m \u001b[0mprint\u001b[0m\u001b[1;33m(\u001b[0m\u001b[0mmonthsL\u001b[0m\u001b[1;33m)\u001b[0m\u001b[1;33m\u001b[0m\u001b[1;33m\u001b[0m\u001b[0m\n\u001b[1;32m----> 6\u001b[1;33m \u001b[0mmonthsT\u001b[0m\u001b[1;33m.\u001b[0m\u001b[0msort\u001b[0m\u001b[1;33m(\u001b[0m\u001b[1;33m)\u001b[0m\u001b[1;33m\u001b[0m\u001b[1;33m\u001b[0m\u001b[0m\n\u001b[0m\u001b[0;32m      7\u001b[0m \u001b[0mprint\u001b[0m\u001b[1;33m(\u001b[0m\u001b[0mmonthsT\u001b[0m\u001b[1;33m)\u001b[0m\u001b[1;33m\u001b[0m\u001b[1;33m\u001b[0m\u001b[0m\n",
      "\u001b[1;31mAttributeError\u001b[0m: 'tuple' object has no attribute 'sort'"
     ]
    }
   ],
   "source": [
    "#program=4\n",
    "#(f)\n",
    "monthsL = [\"Jan\", \"Feb\", \"March\", \"May\"]\n",
    "monthsT = (\"Jan\", \"Feb\", \"March\", \"May\")\n",
    "monthsL.sort()\n",
    "print(monthsL)\n",
    "monthsT.sort()\n",
    "print(monthsT)"
   ]
  },
  {
   "cell_type": "code",
   "execution_count": 22,
   "metadata": {
    "scrolled": true
   },
   "outputs": [
    {
     "name": "stdout",
     "output_type": "stream",
     "text": [
      "a) True\n",
      "b) True\n",
      "c) True\n",
      "d) True\n"
     ]
    }
   ],
   "source": [
    "#program=5\n",
    "#(a)\n",
    "word1=len(\"anachronistically\")\n",
    "word2=len(\"counterintuitive\")\n",
    "C = word1 == 1 + word2\n",
    "print(\"a) \"+str(C))\n",
    "#(b)\n",
    "word1=\"misinterpretation\"\n",
    "word2=\"misrepresentation\"\n",
    "D = word1 < word2\n",
    "print(\"b) \"+str(D))\n",
    "#(c)\n",
    "word=\"floccinaucinihilipilification\"\n",
    "C= word.find != 'e'\n",
    "print(\"c) \"+str(C))\n",
    "#(d)\n",
    "a=\"counterrelovution\"\n",
    "b=\"counter\"\n",
    "c=\"revolution\"\n",
    "C= len(a) == len(b+c)\n",
    "print(\"d) \"+str(C))"
   ]
  },
  {
   "cell_type": "code",
   "execution_count": 10,
   "metadata": {},
   "outputs": [
    {
     "name": "stdout",
     "output_type": "stream",
     "text": [
      "6.5\n",
      "My Fullname is john fitzgerald kennedy\n"
     ]
    }
   ],
   "source": [
    "#program=6\n",
    "#(a)\n",
    "a = 6\n",
    "b = 7\n",
    "#(b)\n",
    "c = ((a+b)/2)\n",
    "print(c)\n",
    "#(c)\n",
    "inventory = ['paper', 'staples', 'pencils']\n",
    "#(d)\n",
    "first = 'john'\n",
    "middle = 'fitzgerald'\n",
    "last = 'kennedy'\n",
    "#(e)\n",
    "fullname = first + \" \" + middle + \" \" + last\n",
    "print(\"My Fullname is \" + fullname)\n",
    "\n"
   ]
  },
  {
   "cell_type": "code",
   "execution_count": 37,
   "metadata": {},
   "outputs": [
    {
     "name": "stdout",
     "output_type": "stream",
     "text": [
      "True\n",
      "True\n",
      "True\n",
      "True\n"
     ]
    }
   ],
   "source": [
    "#program=7\n",
    "#(a)(0,0)\n",
    "x = 0\n",
    "y = 0\n",
    "if x < 10 and y < 10:\n",
    "    print(True)\n",
    "else:\n",
    "    print(False)\n",
    "#(b)(10,10)\n",
    "x = 10\n",
    "y = 10\n",
    "if x <= 10 and y <= 10:\n",
    "    print(True)\n",
    "else:\n",
    "    print(False)\n",
    "#(c)(6,6)\n",
    "x = 6\n",
    "y = 6\n",
    "if x < 10 and y < 10:\n",
    "    print(True)\n",
    "else:\n",
    "    print(False)\n",
    "#(d)(7,8)\n",
    "x = 7\n",
    "x = 8\n",
    "if x < 10 and y <= 10:\n",
    "    print(True)\n",
    "else:\n",
    "    print(False)"
   ]
  },
  {
   "cell_type": "code",
   "execution_count": null,
   "metadata": {},
   "outputs": [],
   "source": []
  }
 ],
 "metadata": {
  "kernelspec": {
   "display_name": "Python 3",
   "language": "python",
   "name": "python3"
  },
  "language_info": {
   "codemirror_mode": {
    "name": "ipython",
    "version": 3
   },
   "file_extension": ".py",
   "mimetype": "text/x-python",
   "name": "python",
   "nbconvert_exporter": "python",
   "pygments_lexer": "ipython3",
   "version": "3.7.3"
  }
 },
 "nbformat": 4,
 "nbformat_minor": 2
}
