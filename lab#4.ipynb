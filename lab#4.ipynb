{
 "cells": [
  {
   "cell_type": "markdown",
   "metadata": {},
   "source": [
    "# Muhammad Huzaifa Shaikh"
   ]
  },
  {
   "cell_type": "code",
   "execution_count": 6,
   "metadata": {},
   "outputs": [
    {
     "name": "stdout",
     "output_type": "stream",
     "text": [
      "Input the value of b: 3\n",
      "Input the value of a: 1\n",
      "Input the value of c: 1\n",
      "x1= -0.3819660112501051 x2= -4.118033988749895\n"
     ]
    }
   ],
   "source": [
    "#Exercise:1\n",
    "from math import sqrt\n",
    "import cmath\n",
    "b=eval(input(\"Input the value of b: \"))\n",
    "a=eval(input(\"Input the value of a: \"))\n",
    "c=eval(input(\"Input the value of c: \"))\n",
    "if a==0:\n",
    "    print(\"The equation cannot solved\")\n",
    "elif (b < a and b < c) or (b > a and b < c):\n",
    "    z=(b**2)-(4*a*c)\n",
    "    x1=(-b+cmath.sqrt(z))/(2*a)\n",
    "    x2=(-b-cmath.sqrt(z)/2*a)\n",
    "    print(\"x1=\",x1,\"x2=\",x2)\n",
    "else:\n",
    "    y=(b**2)-(4*a*c)\n",
    "    x1=(-b+sqrt(y))/(2*a)\n",
    "    x2=(-b-sqrt(y)/2*a)\n",
    "    print(\"x1=\",x1,\"x2=\",x2)\n",
    "    "
   ]
  },
  {
   "cell_type": "code",
   "execution_count": 7,
   "metadata": {},
   "outputs": [
    {
     "name": "stdout",
     "output_type": "stream",
     "text": [
      "Enter the first term: 3\n",
      "Enter the common difference: 6\n",
      "Do you want to calculate next term?yes\n",
      "Enter the nth term you want to find: 35\n",
      "207\n",
      "Do you want to find out another term?yes\n",
      "Enter the nth term you want to find: 45\n",
      "267\n",
      "Do you want to find out another term?yes\n",
      "Enter the nth term you want to find: 65\n",
      "387\n",
      "Do you want to find out another term?no\n"
     ]
    },
    {
     "data": {
      "text/plain": [
       "('The answer of the nth term you entered is:', 387)"
      ]
     },
     "execution_count": 7,
     "metadata": {},
     "output_type": "execute_result"
    }
   ],
   "source": [
    "#Exercise:2\n",
    "def sequence(a,d):\n",
    "    x=str(input(\"Do you want to calculate next term?\"))\n",
    "    y=x.casefold()\n",
    "    while(y==\"yes\"):\n",
    "        n=int(input(\"Enter the nth term you want to find: \"))\n",
    "        tn=a+((n-1)*d)\n",
    "        print(tn)\n",
    "        x=input(\"Do you want to find out another term?\")\n",
    "        y=x.casefold()\n",
    "    return\"The answer of the nth term you entered is:\",tn\n",
    "a=int(input(\"Enter the first term: \"))\n",
    "d=int(input(\"Enter the common difference: \"))\n",
    "sequence(a,d)\n",
    "        "
   ]
  },
  {
   "cell_type": "code",
   "execution_count": 8,
   "metadata": {},
   "outputs": [
    {
     "name": "stdout",
     "output_type": "stream",
     "text": [
      "Enter the text to test palindrome: civic\n",
      "Yes your string is palindrome\n"
     ]
    }
   ],
   "source": [
    "#Exercise:3\n",
    "text = str(input(\"Enter the text to test palindrome: \"))\n",
    "x = text.casefold()\n",
    "#print(x)\n",
    "y = len(text)\n",
    "#print(y)\n",
    "z = text[y::-1]\n",
    "#print(z)\n",
    "if x==z:\n",
    "    print(\"Yes your string is palindrome\")\n",
    "else:\n",
    "    print(\"Sorry!your string is not palindrome\")"
   ]
  },
  {
   "cell_type": "code",
   "execution_count": 5,
   "metadata": {},
   "outputs": [
    {
     "name": "stdout",
     "output_type": "stream",
     "text": [
      "\t\t\tBOARD OF INTERMEIDATE EDUCATION KARACHI\n",
      "Enter your Name: Muhammad Huzaifa Shaikh\n",
      "Enter you Father name: Abdul Haq Shaikh\n",
      "Enter your Date of birth: 20_06_2001\n",
      "Enter your combined english marks: 99\n",
      "Enter your combined urdu marks: 138\n",
      "Enter your combined chemistry marks: 154\n",
      "Enter your combined physics marks: 123\n",
      "Enter your combined maths marks: 148\n",
      "Enter you islamiat part_1: 46\n",
      "Enter you pak studies part_2 marks:40\n",
      "---------------------------------------------------------------------\n",
      "\n",
      "Name\t\t| Muhammad Huzaifa Shaikh \n",
      "Father Name\t| Abdul Haq Shaikh \n",
      "Date_of_birth\t| 20062001\n",
      "----------------------------------------------------------------------\n",
      "English= \t200| 99\n",
      "Urdu= \t\t200| 138\n",
      "Chemistry= \t200| 154\n",
      "Physics= \t200| 123\n",
      "Math= \t\t200| 148\n",
      "Islamiat= \t50| 46\n",
      "Pak_studies_2= \t50| 40\n",
      "----------------------------------------------------------------------\n",
      "Total Marks| 748 \tPercentage| 68.0 \tGrade| B\n",
      "----------------------------------------------------------------------\n"
     ]
    }
   ],
   "source": [
    "#Exercise:4\n",
    "print(\"\\t\\t\\tBOARD OF INTERMEIDATE EDUCATION KARACHI\")\n",
    "name=str(input(\"Enter your Name: \"))\n",
    "father_name=str(input(\"Enter you Father name: \"))\n",
    "date_of_birth=eval(input(\"Enter your Date of birth: \"))\n",
    "english=eval(input(\"Enter your combined english marks: \"))\n",
    "urdu=eval(input(\"Enter your combined urdu marks: \"))\n",
    "chemistry=eval(input(\"Enter your combined chemistry marks: \"))\n",
    "physics=eval(input(\"Enter your combined physics marks: \"))\n",
    "math=eval(input(\"Enter your combined maths marks: \"))\n",
    "islamiat_1=eval(input(\"Enter you islamiat part_1: \"))\n",
    "pak_studies_2=eval(input(\"Enter you pak studies part_2 marks:\"))\n",
    "print(\"---------------------------------------------------------------------\")\n",
    "\n",
    "print(\"\\nName\\t\\t|\",name,\"\\nFather Name\\t|\",father_name,\"\\nDate_of_birth\\t|\",date_of_birth)\n",
    "print(\"----------------------------------------------------------------------\")\n",
    "\n",
    "print(\"English=\",\"\\t200|\",english)\n",
    "print(\"Urdu=\",\"\\t\\t200|\",urdu)\n",
    "print(\"Chemistry=\",\"\\t200|\",chemistry)\n",
    "print(\"Physics=\",\"\\t200|\",physics)\n",
    "print(\"Math=\",\"\\t\\t200|\",math)\n",
    "print(\"Islamiat=\",\"\\t50|\",islamiat_1)\n",
    "print(\"Pak_studies_2=\",\"\\t50|\",pak_studies_2)\n",
    "sum_of_marks=english+urdu+chemistry+physics+math+islamiat_1+pak_studies_2\n",
    "total_marks=1100\n",
    "percentage=(sum_of_marks/total_marks)*100\n",
    "if percentage >= 80:\n",
    "    Grade=\"A.one\"\n",
    "elif percentage >=70:\n",
    "    Grade=\"A\"\n",
    "elif percentage >=60:\n",
    "    Grade=\"B\"\n",
    "elif percentage >=50:\n",
    "    Grade=\"C\"\n",
    "elif percentage >=40:\n",
    "    Grade=\"D\"\n",
    "elif percentage >=30:\n",
    "    Grade=\"Fail\"\n",
    "print(\"----------------------------------------------------------------------\")\n",
    "print(\"Total Marks|\",sum_of_marks,\"\\tPercentage|\",percentage,\"\\tGrade|\",Grade)\n",
    "print(\"----------------------------------------------------------------------\")"
   ]
  },
  {
   "cell_type": "code",
   "execution_count": 9,
   "metadata": {},
   "outputs": [
    {
     "name": "stdout",
     "output_type": "stream",
     "text": [
      "1 2 3 4 5 \n",
      "2 4 6 8 10 \n",
      "3 6 9 12 15 \n",
      "4 8 12 16 20 \n",
      "5 10 15 20 25 \n"
     ]
    }
   ],
   "source": [
    "#Exercise:5\n",
    "for i in range(1,6):\n",
    "    for j in range(1,6):\n",
    "        k=i*j\n",
    "        print (k, end=' ')\n",
    "    print()"
   ]
  },
  {
   "cell_type": "code",
   "execution_count": 3,
   "metadata": {},
   "outputs": [
    {
     "name": "stdout",
     "output_type": "stream",
     "text": [
      "[5, 7, 9]\n",
      "[9, 7, 5]\n",
      "[7, 9, 5]\n"
     ]
    }
   ],
   "source": [
    "#Exercise:6\n",
    "x=[[1,2,3],[3,2,1],[2,3,1]]\n",
    "y=[[4,5,6],[6,5,4],[5,6,4]]\n",
    "result=[[0,0,0],[0,0,0],[0,0,0]]\n",
    "for i in range(len(x)):\n",
    "    for j in range(len(y)):\n",
    "        result[i][j]=x[i][j]+y[i][j]\n",
    "for r in result:\n",
    "    print(r)"
   ]
  },
  {
   "cell_type": "code",
   "execution_count": 14,
   "metadata": {},
   "outputs": [
    {
     "name": "stdout",
     "output_type": "stream",
     "text": [
      "[31, 33, 26]\n",
      "[29, 31, 30]\n",
      "[31, 31, 28]\n"
     ]
    }
   ],
   "source": [
    "#Exercise:7\n",
    "x=[[1,2,3],[3,2,1],[2,3,1]]\n",
    "y=[[4,5,6],[6,5,4],[5,6,4]]\n",
    "result=[[0,0,0],[0,0,0],[0,0,0]]\n",
    "for i in range(len(x)):\n",
    "    for j in range(len(y)):\n",
    "        for k in range(len(y)):\n",
    "            result[i][j] += x[i][k]*y[k][j]\n",
    "for r in result:\n",
    "    print(r)"
   ]
  }
 ],
 "metadata": {
  "kernelspec": {
   "display_name": "Python 3",
   "language": "python",
   "name": "python3"
  },
  "language_info": {
   "codemirror_mode": {
    "name": "ipython",
    "version": 3
   },
   "file_extension": ".py",
   "mimetype": "text/x-python",
   "name": "python",
   "nbconvert_exporter": "python",
   "pygments_lexer": "ipython3",
   "version": "3.7.3"
  }
 },
 "nbformat": 4,
 "nbformat_minor": 2
}
