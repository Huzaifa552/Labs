{
 "cells": [
  {
   "cell_type": "markdown",
   "metadata": {},
   "source": [
    "# MUHAMMAD HUZAIFA SHAIKH(LAB:3)(EXERCISE)"
   ]
  },
  {
   "cell_type": "code",
   "execution_count": 1,
   "metadata": {},
   "outputs": [
    {
     "name": "stdout",
     "output_type": "stream",
     "text": [
      "enter the value of Angular velocity: 10\n",
      "enter the radius of circle: 2\n",
      "20.0 m/s\n"
     ]
    }
   ],
   "source": [
    "#QUES:1\n",
    "Angular_velocity= float(input(\"enter the value of Angular velocity: \"))\n",
    "radius= float(input(\"enter the radius of circle: \"))\n",
    "Linear_velocity = (Angular_velocity * radius)\n",
    "print(Linear_velocity , \"m/s\")"
   ]
  },
  {
   "cell_type": "code",
   "execution_count": 2,
   "metadata": {},
   "outputs": [
    {
     "name": "stdout",
     "output_type": "stream",
     "text": [
      "enter the radius of center: 10\n",
      "enter the number of revolution: 5000\n",
      "5235.987755982988 m/s\n"
     ]
    }
   ],
   "source": [
    "#QUES:2\n",
    "from math import pi\n",
    "radius= float(input(\"enter the radius of center: \"))\n",
    "numberofrevolution=float(input(\"enter the number of revolution: \"))\n",
    "rpm=(numberofrevolution/60)\n",
    "Angular_velocity= rpm * 2 * pi\n",
    "linear_velocity=(radius * Angular_velocity)\n",
    "print(linear_velocity , \"m/s\")"
   ]
  },
  {
   "cell_type": "code",
   "execution_count": 3,
   "metadata": {},
   "outputs": [
    {
     "name": "stdout",
     "output_type": "stream",
     "text": [
      "Enter the value of radius: 30\n",
      "3.0 m/s\n"
     ]
    }
   ],
   "source": [
    "#QUES:3\n",
    "radius=float(input(\"Enter the value of radius: \"))\n",
    "r=radius/100\n",
    "Linear_velocity=10 \n",
    "angular_velocity=r*Linear_velocity\n",
    "print(angular_velocity, \"m/s\")\n"
   ]
  },
  {
   "cell_type": "code",
   "execution_count": 4,
   "metadata": {},
   "outputs": [
    {
     "name": "stdout",
     "output_type": "stream",
     "text": [
      "Enter the value of radius:0.25\n",
      "Enter the value of linear speed:10\n",
      "40.0 m/s\n"
     ]
    }
   ],
   "source": [
    "#QUES:4\n",
    "radius= float(input(\"Enter the value of radius:\"))\n",
    "linear_speed= float(input(\"Enter the value of linear speed:\"))\n",
    "Angular_speed= (linear_speed/radius)\n",
    "print(Angular_speed , \"m/s\")"
   ]
  },
  {
   "cell_type": "code",
   "execution_count": 5,
   "metadata": {},
   "outputs": [
    {
     "name": "stdout",
     "output_type": "stream",
     "text": [
      "Enter the value of radius: 20\n",
      "Enter the value of Angular speed: 120\n",
      "Enter the value of time10\n",
      "25.132741228718345 m\n"
     ]
    }
   ],
   "source": [
    "#QUES:5\n",
    "from math import pi\n",
    "radius=float(input(\"Enter the value of radius: \"))\n",
    "angular_speed= float(input(\"Enter the value of Angular speed: \"))\n",
    "radius_in_meter= radius/100\n",
    "time = float(input(\"Enter the value of time\"))\n",
    "x= (angular_speed/60)*2*pi\n",
    "v=radius_in_meter*x\n",
    "distance= v*time\n",
    "print(distance , \"m\")"
   ]
  },
  {
   "cell_type": "code",
   "execution_count": 6,
   "metadata": {},
   "outputs": [
    {
     "name": "stdout",
     "output_type": "stream",
     "text": [
      "Enter the velocity in miles per hour:50\n",
      "Enter the acceleration in miles per hour^2:10\n",
      "Enter the value of time in Hours:2\n",
      "225308.16 meter\n"
     ]
    }
   ],
   "source": [
    "#QUES:6\n",
    "u = float(input(\"Enter the velocity in miles per hour:\"))\n",
    "a = float(input(\"Enter the acceleration in miles per hour^2:\"))\n",
    "t = float(input(\"Enter the value of time in Hours:\"))\n",
    "v = u+(a*t)\n",
    "d = v*t\n",
    "distance_in_meter = d*1609.344\n",
    "print(distance_in_meter, \"meter\")"
   ]
  },
  {
   "cell_type": "code",
   "execution_count": 6,
   "metadata": {},
   "outputs": [
    {
     "name": "stdout",
     "output_type": "stream",
     "text": [
      "Enter the value of height in feet:100\n",
      "velocity: 24.441334822636467 m/s\n"
     ]
    }
   ],
   "source": [
    "#QUES:7\n",
    "from math import sqrt\n",
    "Height=float(input(\"Enter the value of height in feet:\"))\n",
    "u=0\n",
    "Acceleration=9.8\n",
    "Height_in_meter=Height/3.281\n",
    "v=sqrt((2*Height_in_meter*Acceleration))\n",
    "print(\"velocity:\",v,\"m/s\")"
   ]
  },
  {
   "cell_type": "code",
   "execution_count": null,
   "metadata": {},
   "outputs": [],
   "source": []
  }
 ],
 "metadata": {
  "kernelspec": {
   "display_name": "Python 3",
   "language": "python",
   "name": "python3"
  },
  "language_info": {
   "codemirror_mode": {
    "name": "ipython",
    "version": 3
   },
   "file_extension": ".py",
   "mimetype": "text/x-python",
   "name": "python",
   "nbconvert_exporter": "python",
   "pygments_lexer": "ipython3",
   "version": "3.7.3"
  }
 },
 "nbformat": 4,
 "nbformat_minor": 2
}
